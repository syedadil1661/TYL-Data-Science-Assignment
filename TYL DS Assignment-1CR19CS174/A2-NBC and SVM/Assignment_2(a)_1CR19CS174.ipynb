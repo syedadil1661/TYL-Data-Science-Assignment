{
  "cells": [
    {
      "cell_type": "markdown",
      "source": [
        "**NBC and SVM**"
      ],
      "metadata": {
        "id": "BIVUGd2kZesR"
      },
      "id": "BIVUGd2kZesR"
    },
    {
      "cell_type": "code",
      "execution_count": null,
      "id": "7e0041ef",
      "metadata": {
        "id": "7e0041ef"
      },
      "outputs": [],
      "source": [
        "#import the required packages\n",
        "import numpy as np\n",
        "import pandas as pd\n",
        "import seaborn as sns\n",
        "import matplotlib.pyplot as plt"
      ]
    },
    {
      "cell_type": "code",
      "execution_count": null,
      "id": "3980f46b",
      "metadata": {
        "id": "3980f46b"
      },
      "outputs": [],
      "source": [
        "#reading the dataset\n",
        "data=pd.read_csv('SPAM.csv',encoding='latin-1')"
      ]
    },
    {
      "cell_type": "code",
      "execution_count": null,
      "id": "acd2080f",
      "metadata": {
        "id": "acd2080f",
        "colab": {
          "base_uri": "https://localhost:8080/"
        },
        "outputId": "8ae47e8d-e9dc-4644-f525-91239ded0a85"
      },
      "outputs": [
        {
          "output_type": "stream",
          "name": "stdout",
          "text": [
            "(5572, 5)\n"
          ]
        }
      ],
      "source": [
        "print(data.shape)"
      ]
    },
    {
      "cell_type": "code",
      "execution_count": null,
      "id": "93fbdd8e",
      "metadata": {
        "id": "93fbdd8e",
        "colab": {
          "base_uri": "https://localhost:8080/",
          "height": 206
        },
        "outputId": "59a98bc5-d0b8-48a2-a0f9-dc41c1bece3c"
      },
      "outputs": [
        {
          "output_type": "execute_result",
          "data": {
            "text/plain": [
              "     v1                                                 v2 Unnamed: 2  \\\n",
              "0   ham  Go until jurong point, crazy.. Available only ...        NaN   \n",
              "1   ham                      Ok lar... Joking wif u oni...        NaN   \n",
              "2  spam  Free entry in 2 a wkly comp to win FA Cup fina...        NaN   \n",
              "3   ham  U dun say so early hor... U c already then say...        NaN   \n",
              "4   ham  Nah I don't think he goes to usf, he lives aro...        NaN   \n",
              "\n",
              "  Unnamed: 3 Unnamed: 4  \n",
              "0        NaN        NaN  \n",
              "1        NaN        NaN  \n",
              "2        NaN        NaN  \n",
              "3        NaN        NaN  \n",
              "4        NaN        NaN  "
            ],
            "text/html": [
              "\n",
              "  <div id=\"df-e100c54b-0df4-46b7-81b4-be008b83e5df\">\n",
              "    <div class=\"colab-df-container\">\n",
              "      <div>\n",
              "<style scoped>\n",
              "    .dataframe tbody tr th:only-of-type {\n",
              "        vertical-align: middle;\n",
              "    }\n",
              "\n",
              "    .dataframe tbody tr th {\n",
              "        vertical-align: top;\n",
              "    }\n",
              "\n",
              "    .dataframe thead th {\n",
              "        text-align: right;\n",
              "    }\n",
              "</style>\n",
              "<table border=\"1\" class=\"dataframe\">\n",
              "  <thead>\n",
              "    <tr style=\"text-align: right;\">\n",
              "      <th></th>\n",
              "      <th>v1</th>\n",
              "      <th>v2</th>\n",
              "      <th>Unnamed: 2</th>\n",
              "      <th>Unnamed: 3</th>\n",
              "      <th>Unnamed: 4</th>\n",
              "    </tr>\n",
              "  </thead>\n",
              "  <tbody>\n",
              "    <tr>\n",
              "      <th>0</th>\n",
              "      <td>ham</td>\n",
              "      <td>Go until jurong point, crazy.. Available only ...</td>\n",
              "      <td>NaN</td>\n",
              "      <td>NaN</td>\n",
              "      <td>NaN</td>\n",
              "    </tr>\n",
              "    <tr>\n",
              "      <th>1</th>\n",
              "      <td>ham</td>\n",
              "      <td>Ok lar... Joking wif u oni...</td>\n",
              "      <td>NaN</td>\n",
              "      <td>NaN</td>\n",
              "      <td>NaN</td>\n",
              "    </tr>\n",
              "    <tr>\n",
              "      <th>2</th>\n",
              "      <td>spam</td>\n",
              "      <td>Free entry in 2 a wkly comp to win FA Cup fina...</td>\n",
              "      <td>NaN</td>\n",
              "      <td>NaN</td>\n",
              "      <td>NaN</td>\n",
              "    </tr>\n",
              "    <tr>\n",
              "      <th>3</th>\n",
              "      <td>ham</td>\n",
              "      <td>U dun say so early hor... U c already then say...</td>\n",
              "      <td>NaN</td>\n",
              "      <td>NaN</td>\n",
              "      <td>NaN</td>\n",
              "    </tr>\n",
              "    <tr>\n",
              "      <th>4</th>\n",
              "      <td>ham</td>\n",
              "      <td>Nah I don't think he goes to usf, he lives aro...</td>\n",
              "      <td>NaN</td>\n",
              "      <td>NaN</td>\n",
              "      <td>NaN</td>\n",
              "    </tr>\n",
              "  </tbody>\n",
              "</table>\n",
              "</div>\n",
              "      <button class=\"colab-df-convert\" onclick=\"convertToInteractive('df-e100c54b-0df4-46b7-81b4-be008b83e5df')\"\n",
              "              title=\"Convert this dataframe to an interactive table.\"\n",
              "              style=\"display:none;\">\n",
              "        \n",
              "  <svg xmlns=\"http://www.w3.org/2000/svg\" height=\"24px\"viewBox=\"0 0 24 24\"\n",
              "       width=\"24px\">\n",
              "    <path d=\"M0 0h24v24H0V0z\" fill=\"none\"/>\n",
              "    <path d=\"M18.56 5.44l.94 2.06.94-2.06 2.06-.94-2.06-.94-.94-2.06-.94 2.06-2.06.94zm-11 1L8.5 8.5l.94-2.06 2.06-.94-2.06-.94L8.5 2.5l-.94 2.06-2.06.94zm10 10l.94 2.06.94-2.06 2.06-.94-2.06-.94-.94-2.06-.94 2.06-2.06.94z\"/><path d=\"M17.41 7.96l-1.37-1.37c-.4-.4-.92-.59-1.43-.59-.52 0-1.04.2-1.43.59L10.3 9.45l-7.72 7.72c-.78.78-.78 2.05 0 2.83L4 21.41c.39.39.9.59 1.41.59.51 0 1.02-.2 1.41-.59l7.78-7.78 2.81-2.81c.8-.78.8-2.07 0-2.86zM5.41 20L4 18.59l7.72-7.72 1.47 1.35L5.41 20z\"/>\n",
              "  </svg>\n",
              "      </button>\n",
              "      \n",
              "  <style>\n",
              "    .colab-df-container {\n",
              "      display:flex;\n",
              "      flex-wrap:wrap;\n",
              "      gap: 12px;\n",
              "    }\n",
              "\n",
              "    .colab-df-convert {\n",
              "      background-color: #E8F0FE;\n",
              "      border: none;\n",
              "      border-radius: 50%;\n",
              "      cursor: pointer;\n",
              "      display: none;\n",
              "      fill: #1967D2;\n",
              "      height: 32px;\n",
              "      padding: 0 0 0 0;\n",
              "      width: 32px;\n",
              "    }\n",
              "\n",
              "    .colab-df-convert:hover {\n",
              "      background-color: #E2EBFA;\n",
              "      box-shadow: 0px 1px 2px rgba(60, 64, 67, 0.3), 0px 1px 3px 1px rgba(60, 64, 67, 0.15);\n",
              "      fill: #174EA6;\n",
              "    }\n",
              "\n",
              "    [theme=dark] .colab-df-convert {\n",
              "      background-color: #3B4455;\n",
              "      fill: #D2E3FC;\n",
              "    }\n",
              "\n",
              "    [theme=dark] .colab-df-convert:hover {\n",
              "      background-color: #434B5C;\n",
              "      box-shadow: 0px 1px 3px 1px rgba(0, 0, 0, 0.15);\n",
              "      filter: drop-shadow(0px 1px 2px rgba(0, 0, 0, 0.3));\n",
              "      fill: #FFFFFF;\n",
              "    }\n",
              "  </style>\n",
              "\n",
              "      <script>\n",
              "        const buttonEl =\n",
              "          document.querySelector('#df-e100c54b-0df4-46b7-81b4-be008b83e5df button.colab-df-convert');\n",
              "        buttonEl.style.display =\n",
              "          google.colab.kernel.accessAllowed ? 'block' : 'none';\n",
              "\n",
              "        async function convertToInteractive(key) {\n",
              "          const element = document.querySelector('#df-e100c54b-0df4-46b7-81b4-be008b83e5df');\n",
              "          const dataTable =\n",
              "            await google.colab.kernel.invokeFunction('convertToInteractive',\n",
              "                                                     [key], {});\n",
              "          if (!dataTable) return;\n",
              "\n",
              "          const docLinkHtml = 'Like what you see? Visit the ' +\n",
              "            '<a target=\"_blank\" href=https://colab.research.google.com/notebooks/data_table.ipynb>data table notebook</a>'\n",
              "            + ' to learn more about interactive tables.';\n",
              "          element.innerHTML = '';\n",
              "          dataTable['output_type'] = 'display_data';\n",
              "          await google.colab.output.renderOutput(dataTable, element);\n",
              "          const docLink = document.createElement('div');\n",
              "          docLink.innerHTML = docLinkHtml;\n",
              "          element.appendChild(docLink);\n",
              "        }\n",
              "      </script>\n",
              "    </div>\n",
              "  </div>\n",
              "  "
            ]
          },
          "metadata": {},
          "execution_count": 7
        }
      ],
      "source": [
        "data.head()"
      ]
    },
    {
      "cell_type": "code",
      "execution_count": null,
      "id": "6f277cbf",
      "metadata": {
        "id": "6f277cbf"
      },
      "outputs": [],
      "source": [
        "#removing unnamed columns i.e data cleansing\n",
        "data = data.drop(columns='Unnamed: 2')\n",
        "data = data.drop(columns='Unnamed: 3')\n",
        "data = data.drop(columns='Unnamed: 4')"
      ]
    },
    {
      "cell_type": "code",
      "execution_count": null,
      "id": "837fef23",
      "metadata": {
        "id": "837fef23",
        "colab": {
          "base_uri": "https://localhost:8080/"
        },
        "outputId": "d498acf8-b3f3-4956-b178-1406bd742b72"
      },
      "outputs": [
        {
          "output_type": "stream",
          "name": "stdout",
          "text": [
            "(5572, 2)\n"
          ]
        }
      ],
      "source": [
        "print(data.shape)"
      ]
    },
    {
      "cell_type": "code",
      "execution_count": null,
      "id": "e0791d4a",
      "metadata": {
        "id": "e0791d4a"
      },
      "outputs": [],
      "source": [
        "#renaming the columns accordingly\n",
        "data = data.rename(columns = {'v1':'label','v2':'message'})"
      ]
    },
    {
      "cell_type": "code",
      "execution_count": null,
      "id": "f966ddce",
      "metadata": {
        "id": "f966ddce"
      },
      "outputs": [],
      "source": [
        "#CountVectorizer is used to transform a given text into a vector on the basis of the frequency (count) of each word that occurs in the entire text\n",
        "from sklearn import feature_extraction\n",
        "f = feature_extraction.text.CountVectorizer(stop_words = 'english')\n",
        "X = f.fit_transform(data[\"message\"])"
      ]
    },
    {
      "cell_type": "code",
      "execution_count": null,
      "id": "a2babd6d",
      "metadata": {
        "id": "a2babd6d"
      },
      "outputs": [],
      "source": [
        "#Setting spam as 1 and ham as 0\n",
        "data[\"label\"]=data[\"label\"].map({'spam':1,'ham':0})\n",
        "y = data['label']"
      ]
    },
    {
      "cell_type": "code",
      "execution_count": null,
      "id": "127a3d93",
      "metadata": {
        "id": "127a3d93"
      },
      "outputs": [],
      "source": [
        "#Splitting the dataset into testing and training samples\n",
        "from sklearn.model_selection import train_test_split\n",
        "X_train, X_test, y_train, y_test = train_test_split(X, y, test_size=0.30)"
      ]
    },
    {
      "cell_type": "markdown",
      "id": "8a75793c",
      "metadata": {
        "id": "8a75793c"
      },
      "source": [
        "## Naive Bayes Classifier "
      ]
    },
    {
      "cell_type": "code",
      "execution_count": null,
      "id": "8c4a22a5",
      "metadata": {
        "id": "8c4a22a5",
        "colab": {
          "base_uri": "https://localhost:8080/"
        },
        "outputId": "4e058f5c-03a0-45fd-e3e3-22a4149979b0"
      },
      "outputs": [
        {
          "output_type": "execute_result",
          "data": {
            "text/plain": [
              "MultinomialNB()"
            ]
          },
          "metadata": {},
          "execution_count": 14
        }
      ],
      "source": [
        "#Creating a Naive Bayes Classifier model\n",
        "from sklearn import naive_bayes\n",
        "model = naive_bayes.MultinomialNB()\n",
        "model.fit(X_train, y_train)"
      ]
    },
    {
      "cell_type": "code",
      "execution_count": null,
      "id": "b342dfa8",
      "metadata": {
        "id": "b342dfa8",
        "colab": {
          "base_uri": "https://localhost:8080/"
        },
        "outputId": "f9c5d28a-58aa-4050-ed9c-5e91bf5d884d"
      },
      "outputs": [
        {
          "output_type": "stream",
          "name": "stdout",
          "text": [
            "[0 0 0 ... 0 0 0]\n"
          ]
        }
      ],
      "source": [
        "#Testing the model\n",
        "y_pred=model.predict(X_test)\n",
        "print(y_pred)"
      ]
    },
    {
      "cell_type": "code",
      "execution_count": null,
      "id": "34ecb7a1",
      "metadata": {
        "id": "34ecb7a1",
        "colab": {
          "base_uri": "https://localhost:8080/"
        },
        "outputId": "6b2fe747-ad76-41f4-df01-1b3f0b4b67e8"
      },
      "outputs": [
        {
          "output_type": "stream",
          "name": "stdout",
          "text": [
            "Confusion Matrix obtained: \n",
            "[[1413   20]\n",
            " [  18  221]]\n"
          ]
        }
      ],
      "source": [
        "#Confusion Matrix for Naive Bayes Classifier\n",
        "from sklearn import metrics\n",
        "from sklearn.metrics import confusion_matrix\n",
        "cm= confusion_matrix(y_test,y_pred)\n",
        "print(\"Confusion Matrix obtained: \")\n",
        "print(cm)"
      ]
    },
    {
      "cell_type": "code",
      "execution_count": null,
      "id": "bc3fa09d",
      "metadata": {
        "id": "bc3fa09d",
        "colab": {
          "base_uri": "https://localhost:8080/",
          "height": 281
        },
        "outputId": "b2532b03-be82-4ce1-9bf0-b8b8d00a4379"
      },
      "outputs": [
        {
          "output_type": "display_data",
          "data": {
            "text/plain": [
              "<Figure size 432x288 with 2 Axes>"
            ],
            "image/png": "[encoded data removed]"
          },
          "metadata": {
            "needs_background": "light"
          }
        }
      ],
      "source": [
        "#Displaying the confusion matrix\n",
        "cm_display = metrics.ConfusionMatrixDisplay(confusion_matrix = cm, display_labels =[False,True])\n",
        "cm_display.plot()\n",
        "plt.show()"
      ]
    },
    {
      "cell_type": "code",
      "execution_count": null,
      "id": "3044852e",
      "metadata": {
        "id": "3044852e",
        "colab": {
          "base_uri": "https://localhost:8080/"
        },
        "outputId": "925ffe20-ee20-44f4-9f61-d2b8d99127a0"
      },
      "outputs": [
        {
          "output_type": "stream",
          "name": "stdout",
          "text": [
            "Accuracy of Naive Bayes classifier: 0.9772727272727273\n"
          ]
        }
      ],
      "source": [
        "#Accuracy of Naive Bayes Classifier model\n",
        "print(\"Accuracy of Naive Bayes classifier:\",metrics.accuracy_score(y_test, y_pred))"
      ]
    },
    {
      "cell_type": "code",
      "execution_count": null,
      "id": "b62cb4c9",
      "metadata": {
        "id": "b62cb4c9",
        "colab": {
          "base_uri": "https://localhost:8080/"
        },
        "outputId": "8cbb812e-18e2-4376-b4aa-ba85d9802669"
      },
      "outputs": [
        {
          "output_type": "stream",
          "name": "stdout",
          "text": [
            "Area under the curve: 0.9553647291722022\n"
          ]
        }
      ],
      "source": [
        "#ROC curve for Naive Bayes Classifier\n",
        "from sklearn.metrics import roc_curve, auc\n",
        "false_positive_rate, true_positive_rate, thresholds = roc_curve(y_test, y_pred)\n",
        "roc_auc = auc(false_positive_rate, true_positive_rate)\n",
        "print(\"Area under the curve:\",roc_auc)"
      ]
    },
    {
      "cell_type": "code",
      "execution_count": null,
      "id": "19012366",
      "metadata": {
        "id": "19012366",
        "colab": {
          "base_uri": "https://localhost:8080/",
          "height": 282
        },
        "outputId": "b7029e16-ca69-4132-8a92-83d77a79657a"
      },
      "outputs": [
        {
          "output_type": "execute_result",
          "data": {
            "text/plain": [
              "[<matplotlib.lines.Line2D at 0x7fdb18ca3910>]"
            ]
          },
          "metadata": {},
          "execution_count": 20
        },
        {
          "output_type": "display_data",
          "data": {
            "text/plain": [
              "<Figure size 432x288 with 1 Axes>"
            ],
            "image/png": "[encoded data removed]"
          },
          "metadata": {
            "needs_background": "light"
          }
        }
      ],
      "source": [
        "#Displaying the ROC curve \n",
        "plt.plot(false_positive_rate,true_positive_rate)"
      ]
    },
    {
      "cell_type": "code",
      "execution_count": null,
      "id": "6a155a5a",
      "metadata": {
        "id": "6a155a5a",
        "colab": {
          "base_uri": "https://localhost:8080/"
        },
        "outputId": "00594f7c-502b-40b5-9560-204e789eb009"
      },
      "outputs": [
        {
          "output_type": "stream",
          "name": "stdout",
          "text": [
            "              precision    recall  f1-score   support\n",
            "\n",
            "           0       0.99      0.99      0.99      1433\n",
            "           1       0.92      0.92      0.92       239\n",
            "\n",
            "    accuracy                           0.98      1672\n",
            "   macro avg       0.95      0.96      0.95      1672\n",
            "weighted avg       0.98      0.98      0.98      1672\n",
            "\n"
          ]
        }
      ],
      "source": [
        "#Printing the classification report of Naive Bayes classifier model\n",
        "from sklearn.metrics import classification_report\n",
        "print(classification_report(y_test,y_pred))"
      ]
    },
    {
      "cell_type": "markdown",
      "id": "69a408f0",
      "metadata": {
        "id": "69a408f0"
      },
      "source": [
        "## Support Vector Machine\n"
      ]
    },
    {
      "cell_type": "code",
      "execution_count": null,
      "id": "2fa14650",
      "metadata": {
        "id": "2fa14650",
        "colab": {
          "base_uri": "https://localhost:8080/"
        },
        "outputId": "42211581-a82b-43f1-ed54-eefc367d5733"
      },
      "outputs": [
        {
          "output_type": "execute_result",
          "data": {
            "text/plain": [
              "SVC()"
            ]
          },
          "metadata": {},
          "execution_count": 22
        }
      ],
      "source": [
        "#Creating a SVC model\n",
        "from sklearn.svm import SVC\n",
        "svc_model = SVC() #initialize the code module\n",
        "svc_model.fit(X_train,y_train)"
      ]
    },
    {
      "cell_type": "code",
      "execution_count": null,
      "id": "da88f8c4",
      "metadata": {
        "id": "da88f8c4",
        "colab": {
          "base_uri": "https://localhost:8080/"
        },
        "outputId": "ce5d07e0-c894-4811-dd81-e9bbe9f7eaf2"
      },
      "outputs": [
        {
          "output_type": "stream",
          "name": "stdout",
          "text": [
            "[0 0 0 ... 0 0 0]\n"
          ]
        }
      ],
      "source": [
        "#Testing the model\n",
        "y_pred1 = svc_model.predict(X_test)\n",
        "print(y_pred1)"
      ]
    },
    {
      "cell_type": "code",
      "execution_count": null,
      "id": "ff85844f",
      "metadata": {
        "id": "ff85844f",
        "colab": {
          "base_uri": "https://localhost:8080/"
        },
        "outputId": "023779d1-6d7f-4b6d-debb-5aac3f4f88b5"
      },
      "outputs": [
        {
          "output_type": "stream",
          "name": "stdout",
          "text": [
            "Confusion Matrix obtained: \n",
            "[[1433    0]\n",
            " [  43  196]]\n"
          ]
        }
      ],
      "source": [
        "#Confusion Matrix for Support Vector Machine classifier\n",
        "cm1= confusion_matrix(y_test,y_pred1)\n",
        "print(\"Confusion Matrix obtained: \")\n",
        "print(cm1)"
      ]
    },
    {
      "cell_type": "code",
      "execution_count": null,
      "id": "73043c29",
      "metadata": {
        "id": "73043c29",
        "colab": {
          "base_uri": "https://localhost:8080/",
          "height": 279
        },
        "outputId": "0f0e3662-8810-413b-ece1-44dbe3439faa"
      },
      "outputs": [
        {
          "output_type": "display_data",
          "data": {
            "text/plain": [
              "<Figure size 432x288 with 2 Axes>"
            ],
            "image/png": "[encoded data removed]"
          },
          "metadata": {
            "needs_background": "light"
          }
        }
      ],
      "source": [
        "#Displaying the Confusion matrix\n",
        "cm_display = metrics.ConfusionMatrixDisplay(confusion_matrix = cm1, display_labels =[False,True])\n",
        "cm_display.plot()\n",
        "plt.show()"
      ]
    },
    {
      "cell_type": "code",
      "execution_count": null,
      "id": "3c83b174",
      "metadata": {
        "id": "3c83b174",
        "colab": {
          "base_uri": "https://localhost:8080/"
        },
        "outputId": "85f4ebb9-1511-4874-8683-3e126937a87f"
      },
      "outputs": [
        {
          "output_type": "stream",
          "name": "stdout",
          "text": [
            "Accuracy of SVM model: 0.9742822966507177\n"
          ]
        }
      ],
      "source": [
        "#Accuracy of SVC\n",
        "print(\"Accuracy of SVM model:\",metrics.accuracy_score(y_test, y_pred1))"
      ]
    },
    {
      "cell_type": "code",
      "execution_count": null,
      "id": "8e712566",
      "metadata": {
        "id": "8e712566",
        "colab": {
          "base_uri": "https://localhost:8080/"
        },
        "outputId": "b47d8917-daae-458b-cab2-d512eecdfefe"
      },
      "outputs": [
        {
          "output_type": "stream",
          "name": "stdout",
          "text": [
            "Area under the curve: 0.9100418410041842\n"
          ]
        }
      ],
      "source": [
        "#ROC curve for SVC\n",
        "false_positive_rate, true_positive_rate, thresholds = roc_curve(y_test, y_pred1)\n",
        "roc_auc = auc(false_positive_rate, true_positive_rate)\n",
        "print(\"Area under the curve:\",roc_auc)"
      ]
    },
    {
      "cell_type": "code",
      "execution_count": null,
      "id": "a176f65a",
      "metadata": {
        "id": "a176f65a",
        "colab": {
          "base_uri": "https://localhost:8080/",
          "height": 282
        },
        "outputId": "2ea8756f-bf0b-43c8-8881-95e809c1e856"
      },
      "outputs": [
        {
          "output_type": "execute_result",
          "data": {
            "text/plain": [
              "[<matplotlib.lines.Line2D at 0x7fdb18837910>]"
            ]
          },
          "metadata": {},
          "execution_count": 28
        },
        {
          "output_type": "display_data",
          "data": {
            "text/plain": [
              "<Figure size 432x288 with 1 Axes>"
            ],
            "image/png": "[encoded data removed]"
          },
          "metadata": {
            "needs_background": "light"
          }
        }
      ],
      "source": [
        "plt.plot(false_positive_rate,true_positive_rate)"
      ]
    },
    {
      "cell_type": "code",
      "execution_count": null,
      "id": "1b321f0b",
      "metadata": {
        "id": "1b321f0b",
        "colab": {
          "base_uri": "https://localhost:8080/"
        },
        "outputId": "3c70441a-7d5b-43ee-8908-e2e1ea1b786d"
      },
      "outputs": [
        {
          "output_type": "stream",
          "name": "stdout",
          "text": [
            "              precision    recall  f1-score   support\n",
            "\n",
            "           0       0.97      1.00      0.99      1433\n",
            "           1       1.00      0.82      0.90       239\n",
            "\n",
            "    accuracy                           0.97      1672\n",
            "   macro avg       0.99      0.91      0.94      1672\n",
            "weighted avg       0.98      0.97      0.97      1672\n",
            "\n"
          ]
        }
      ],
      "source": [
        "#Printing the classification report of SVM classifier model\n",
        "print(classification_report(y_test,y_pred1))"
      ]
    }
  ],
  "metadata": {
    "kernelspec": {
      "display_name": "Python 3 (ipykernel)",
      "language": "python",
      "name": "python3"
    },
    "language_info": {
      "codemirror_mode": {
        "name": "ipython",
        "version": 3
      },
      "file_extension": ".py",
      "mimetype": "text/x-python",
      "name": "python",
      "nbconvert_exporter": "python",
      "pygments_lexer": "ipython3",
      "version": "3.9.12"
    },
    "colab": {
      "name": "Assignment 2(a)-1CR19CS174.ipynb",
      "provenance": []
    }
  },
  "nbformat": 4,
  "nbformat_minor": 5
}